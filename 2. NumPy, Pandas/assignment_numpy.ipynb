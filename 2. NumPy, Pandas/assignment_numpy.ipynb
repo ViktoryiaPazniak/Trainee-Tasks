{
 "cells": [
  {
   "cell_type": "markdown",
   "id": "d3df79dd",
   "metadata": {},
   "source": [
    "## Упражнения по библиотеке Numpy"
   ]
  },
  {
   "cell_type": "code",
   "execution_count": 27,
   "id": "76b9c43b",
   "metadata": {},
   "outputs": [],
   "source": [
    "import numpy as np\n",
    "import math\n",
    "import time\n",
    "from scipy import spatial"
   ]
  },
  {
   "cell_type": "markdown",
   "id": "03727b7c",
   "metadata": {},
   "source": [
    "**1.** Дан случайный массив, поменять знак у элементов, значения которых между 3 и 8"
   ]
  },
  {
   "cell_type": "code",
   "execution_count": 2,
   "id": "b89a7523",
   "metadata": {},
   "outputs": [
    {
     "name": "stdout",
     "output_type": "stream",
     "text": [
      "Исходный массив:\n",
      "[[4 5 4 1 7]\n",
      " [7 4 3 3 5]]\n",
      "\n",
      "Измененный массив:\n",
      "[[-4 -5 -4  1 -7]\n",
      " [-7 -4  3  3 -5]]\n"
     ]
    }
   ],
   "source": [
    "random_array = np.random.randint(1, 10, size=(2, 5))\n",
    "\n",
    "print(\"Исходный массив:\")\n",
    "print(random_array)\n",
    "\n",
    "random_array[(random_array > 3) & (random_array < 8)] *= -1\n",
    "\n",
    "print(\"\\nИзмененный массив:\")\n",
    "print(random_array)"
   ]
  },
  {
   "cell_type": "markdown",
   "id": "5fa4abda",
   "metadata": {},
   "source": [
    "**2.** Заменить максимальный элемент случайного массива на 0"
   ]
  },
  {
   "cell_type": "code",
   "execution_count": 3,
   "id": "f2788a6e",
   "metadata": {},
   "outputs": [
    {
     "name": "stdout",
     "output_type": "stream",
     "text": [
      "Исходный массив:\n",
      "[[1 5 9 4 5]\n",
      " [5 3 8 9 1]]\n",
      "\n",
      "Измененный массив:\n",
      "[[1 5 0 4 5]\n",
      " [5 3 8 0 1]]\n"
     ]
    }
   ],
   "source": [
    "random_array = np.random.randint(1, 10, size=(2, 5))\n",
    "\n",
    "print(\"Исходный массив:\")\n",
    "print(random_array)\n",
    "\n",
    "max_value = np.max(random_array)\n",
    "\n",
    "random_array[random_array == max_value] = 0\n",
    "\n",
    "print(\"\\nИзмененный массив:\")\n",
    "print(random_array)"
   ]
  },
  {
   "cell_type": "markdown",
   "id": "3cac656b",
   "metadata": {},
   "source": [
    "**3.** Построить прямое произведение массивов (все комбинации с каждым элементом). На вход подается двумерный массив"
   ]
  },
  {
   "cell_type": "code",
   "execution_count": 4,
   "id": "3396b764",
   "metadata": {},
   "outputs": [
    {
     "name": "stdout",
     "output_type": "stream",
     "text": [
      "Прямое произведение массивов:\n",
      "[['1' 'a']\n",
      " ['1' 'b']\n",
      " ['2' 'a']\n",
      " ['2' 'b']\n",
      " ['3' 'a']\n",
      " ['3' 'b']]\n"
     ]
    }
   ],
   "source": [
    "def cartesian(arrays):\n",
    "    arrays = [np.asarray(a) for a in arrays]\n",
    "    shape = (len(x) for x in arrays)\n",
    "\n",
    "    ix = np.indices(shape, dtype=int)\n",
    "    cartesian = np.transpose([x.flatten() for x in ix])\n",
    "\n",
    "    result = np.array([tuple(arr[i] for arr, i in zip(arrays, indices)) for indices in cartesian])\n",
    "\n",
    "    return result\n",
    "\n",
    "\n",
    "result = cartesian([[1, 2, 3], ['a', 'b']])\n",
    "print(\"Прямое произведение массивов:\")\n",
    "print(result)"
   ]
  },
  {
   "cell_type": "markdown",
   "id": "674c9354",
   "metadata": {},
   "source": [
    "**4.** Даны 2 массива A (8x3) и B (2x2). Найти строки в A, которые содержат элементы из каждой строки в B, независимо от порядка элементов в B"
   ]
  },
  {
   "cell_type": "code",
   "execution_count": 28,
   "id": "cb664782",
   "metadata": {},
   "outputs": [
    {
     "name": "stdout",
     "output_type": "stream",
     "text": [
      "Исходный массив A:\n",
      "[[3 8 1]\n",
      " [7 4 1]\n",
      " [2 4 4]\n",
      " [9 6 6]\n",
      " [5 9 5]\n",
      " [2 6 9]\n",
      " [8 2 5]\n",
      " [2 7 1]]\n",
      "\n",
      "Исходный массив B:\n",
      "[[4 9]\n",
      " [2 1]]\n",
      "\n",
      "Строки в A, удовлетворяющие условию:\n",
      "[[2 7 1]]\n"
     ]
    }
   ],
   "source": [
    "A = np.random.randint(1, 10, size=(8, 3))\n",
    "B = np.random.randint(1, 10, size=(2, 2))\n",
    "\n",
    "print(\"Исходный массив A:\")\n",
    "print(A)\n",
    "print(\"\\nИсходный массив B:\")\n",
    "print(B)\n",
    "\n",
    "result_indices = []\n",
    "\n",
    "# Перебираем строки в массиве A\n",
    "for i, row_A in enumerate(A):\n",
    "    # Проверяем, содержит ли текущая строка ВСЕ элементы из каждой строки в B\n",
    "    if any(np.isin(row_B, row_A).all() for row_B in B):\n",
    "        result_indices.append(i)\n",
    "\n",
    "# Используем индексы, чтобы получить соответствующие строки из массива A\n",
    "result_rows = A[result_indices, :]\n",
    "\n",
    "# Выводим результат\n",
    "print(\"\\nСтроки в A, удовлетворяющие условию:\")\n",
    "print(result_rows)"
   ]
  },
  {
   "cell_type": "markdown",
   "id": "fa46533b",
   "metadata": {},
   "source": [
    "**5.** Дана 10x3 матрица, найти строки из неравных значений (например строка [2,2,3] остается, строка [3,3,3] удаляется)"
   ]
  },
  {
   "cell_type": "code",
   "execution_count": 6,
   "id": "fa545b23",
   "metadata": {},
   "outputs": [
    {
     "name": "stdout",
     "output_type": "stream",
     "text": [
      "Исходная матрица:\n",
      "[[2 2 3]\n",
      " [3 3 3]\n",
      " [1 2 1]]\n",
      "\n",
      "Результат:\n",
      "[[2 2 3]\n",
      " [1 2 1]]\n"
     ]
    }
   ],
   "source": [
    "matrix = np.array([[2, 2, 3],\n",
    "                   [3, 3, 3],\n",
    "                   [1, 2, 1]])\n",
    "\n",
    "print(\"Исходная матрица:\")\n",
    "print(matrix)\n",
    "\n",
    "rows_with_unequal_values = np.any(matrix[:, 1:] != matrix[:, :-1], axis=1)\n",
    "\n",
    "# Используем индексы для выбора нужных строк\n",
    "result_matrix = matrix[rows_with_unequal_values]\n",
    "\n",
    "print(\"\\nРезультат:\")\n",
    "print(result_matrix)"
   ]
  },
  {
   "cell_type": "markdown",
   "id": "28f0d116",
   "metadata": {},
   "source": [
    "**6.** Дан двумерный массив. Удалить те строки, которые повторяются"
   ]
  },
  {
   "cell_type": "code",
   "execution_count": 7,
   "id": "1ea57fba",
   "metadata": {},
   "outputs": [
    {
     "name": "stdout",
     "output_type": "stream",
     "text": [
      "Исходная матрица:\n",
      "[[1 1 1]\n",
      " [2 2 2]\n",
      " [3 3 3]\n",
      " [1 1 1]\n",
      " [4 4 4]\n",
      " [3 3 3]]\n",
      "\n",
      "Результат:\n",
      "[[1 1 1]\n",
      " [2 2 2]\n",
      " [3 3 3]\n",
      " [4 4 4]]\n"
     ]
    }
   ],
   "source": [
    "matrix = np.array([[1, 1, 1],\n",
    "                   [2, 2, 2],\n",
    "                   [3, 3, 3],\n",
    "                   [1, 1, 1],\n",
    "                   [4, 4, 4],\n",
    "                   [3, 3, 3]])\n",
    "\n",
    "print(\"Исходная матрица:\")\n",
    "print(matrix)\n",
    "\n",
    "res = np.unique(matrix, axis=0)\n",
    "\n",
    "print(\"\\nРезультат:\")\n",
    "print(res)"
   ]
  },
  {
   "cell_type": "markdown",
   "id": "6daa9e37",
   "metadata": {},
   "source": [
    "______\n",
    "______"
   ]
  },
  {
   "cell_type": "markdown",
   "id": "cfbfcaff",
   "metadata": {},
   "source": [
    "Для каждой из следующих задач (1-5) нужно привести 2 реализации – одна без использования numpy (cчитайте, что там, где на входе или выходе должны быть numpy array, будут просто списки), а вторая полностью векторизованная с использованием numpy (без использования питоновских циклов/map/list comprehension).\n",
    "\n",
    "\n",
    "__Замечание 1.__ Можно считать, что все указанные объекты непустые (к примеру, в __задаче 1__ на диагонали матрицы есть ненулевые элементы).\n",
    "\n",
    "__Замечание 2.__ Для большинства задач решение занимает не больше 1-2 строк."
   ]
  },
  {
   "cell_type": "markdown",
   "id": "673cac7f",
   "metadata": {},
   "source": [
    "___"
   ]
  },
  {
   "cell_type": "markdown",
   "id": "ca6f585e",
   "metadata": {},
   "source": [
    "* __Задача 1__: Подсчитать произведение ненулевых элементов на диагонали прямоугольной матрицы.  \n",
    " Например, для X = np.array([[1, 0, 1], [2, 0, 2], [3, 0, 3], [4, 4, 4]]) ответ 3."
   ]
  },
  {
   "cell_type": "code",
   "execution_count": 8,
   "id": "065862fc",
   "metadata": {},
   "outputs": [
    {
     "name": "stdout",
     "output_type": "stream",
     "text": [
      "3\n"
     ]
    }
   ],
   "source": [
    "x = [[1, 0, 1], [2, 0, 2], [3, 0, 3], [4, 4, 4]]\n",
    "\n",
    "product = 1\n",
    "for i in range(len(x)):\n",
    "    for j in range(len(x[i])):\n",
    "        if i == j and x[i][j] != 0:\n",
    "            product *= x[i][j]\n",
    "\n",
    "print(product)"
   ]
  },
  {
   "cell_type": "code",
   "execution_count": 9,
   "id": "9347d478",
   "metadata": {},
   "outputs": [
    {
     "name": "stdout",
     "output_type": "stream",
     "text": [
      "3\n"
     ]
    }
   ],
   "source": [
    "x = [[1, 0, 1], [2, 0, 2], [3, 0, 3], [4, 4, 4]]\n",
    "\n",
    "diagonal_elements = np.diagonal(x)\n",
    "product = np.prod(diagonal_elements[diagonal_elements != 0])\n",
    "\n",
    "print(product)"
   ]
  },
  {
   "cell_type": "markdown",
   "id": "9fc51d41",
   "metadata": {},
   "source": [
    "* __Задача 2__: Даны два вектора x и y. Проверить, задают ли они одно и то же мультимножество.  \n",
    "  Например, для x = np.array([1, 2, 2, 4]), y = np.array([4, 2, 1, 2]) ответ True."
   ]
  },
  {
   "cell_type": "code",
   "execution_count": 10,
   "id": "a809e02f",
   "metadata": {},
   "outputs": [
    {
     "name": "stdout",
     "output_type": "stream",
     "text": [
      "True\n"
     ]
    }
   ],
   "source": [
    "x = [1, 2, 2, 4]\n",
    "y = [4, 2, 1, 2]\n",
    "\n",
    "print(sorted(x) == sorted(y))"
   ]
  },
  {
   "cell_type": "code",
   "execution_count": 11,
   "id": "575dd3ed",
   "metadata": {},
   "outputs": [
    {
     "name": "stdout",
     "output_type": "stream",
     "text": [
      "True\n"
     ]
    }
   ],
   "source": [
    "x = np.array([1, 2, 2, 4])\n",
    "y = np.array([4, 2, 1, 2])\n",
    "\n",
    "print(np.array_equal(np.sort(x), np.sort(y)))"
   ]
  },
  {
   "cell_type": "markdown",
   "id": "b9c185c7",
   "metadata": {},
   "source": [
    "* __Задача 3__: Найти максимальный элемент в векторе x среди элементов, перед которыми стоит ноль. \n",
    " Например, для x = np.array([6, 2, 0, 3, 0, 0, 5, 7, 0]) ответ 5."
   ]
  },
  {
   "cell_type": "code",
   "execution_count": 12,
   "id": "b57df008",
   "metadata": {},
   "outputs": [
    {
     "name": "stdout",
     "output_type": "stream",
     "text": [
      "5\n"
     ]
    }
   ],
   "source": [
    "x = [6, 2, 0, 3, 0, 0, 5, 7, 0]\n",
    "\n",
    "max = int()\n",
    "zero_found = False\n",
    "\n",
    "for i in range(len(x) - 1):\n",
    "    if x[i] == 0 and x[i + 1] > max:\n",
    "        max = x[i + 1]\n",
    "\n",
    "print(max)"
   ]
  },
  {
   "cell_type": "code",
   "execution_count": 13,
   "id": "81a954ee",
   "metadata": {},
   "outputs": [
    {
     "name": "stdout",
     "output_type": "stream",
     "text": [
      "5\n"
     ]
    }
   ],
   "source": [
    "x = np.array([6, 2, 0, 3, 0, 0, 5, 7, 0])\n",
    "\n",
    "indices_of_zeros = np.where(x[:-1] == 0)[0]\n",
    "max_element = np.max(x[indices_of_zeros + 1])\n",
    "print(max_element)"
   ]
  },
  {
   "cell_type": "markdown",
   "id": "480be4ce",
   "metadata": {},
   "source": [
    "* __Задача 4__: Реализовать кодирование длин серий (Run-length encoding). Для некоторого вектора x необходимо вернуть кортеж из двух векторов одинаковой длины. Первый содержит числа, а второй - сколько раз их нужно повторить.  \n",
    " Например, для x = np.array([2, 2, 2, 3, 3, 3, 5]) ответ (np.array([2, 3, 5]), np.array([3, 3, 1]))."
   ]
  },
  {
   "cell_type": "code",
   "execution_count": 14,
   "id": "3c592124",
   "metadata": {},
   "outputs": [
    {
     "name": "stdout",
     "output_type": "stream",
     "text": [
      "([2, 3, 5], [3, 3, 1])\n"
     ]
    }
   ],
   "source": [
    "x = [2, 2, 2, 3, 3, 3, 5]\n",
    "\n",
    "numbers = [x[0]]\n",
    "count = [0]\n",
    "\n",
    "for i in range(len(x)):\n",
    "    if x[i] != numbers[-1]:\n",
    "        numbers.append(x[i])\n",
    "        count.append(1)\n",
    "    else:\n",
    "        count[-1] += 1\n",
    "\n",
    "print((numbers, count))"
   ]
  },
  {
   "cell_type": "code",
   "execution_count": 15,
   "id": "ef9da9a5",
   "metadata": {},
   "outputs": [
    {
     "name": "stdout",
     "output_type": "stream",
     "text": [
      "(array([2, 3, 5]), array([3, 3, 1], dtype=int64))\n"
     ]
    }
   ],
   "source": [
    "x = np.array([2, 2, 2, 3, 3, 3, 5])\n",
    "\n",
    "print(np.unique(x, return_counts=True))"
   ]
  },
  {
   "cell_type": "markdown",
   "id": "077532ec",
   "metadata": {},
   "source": [
    "* __Задача 5__: Даны две выборки объектов - X и Y. Вычислить матрицу евклидовых расстояний между объектами. Сравните с функцией scipy.spatial.distance.cdist по скорости работы."
   ]
  },
  {
   "cell_type": "code",
   "execution_count": 16,
   "id": "1e807797",
   "metadata": {},
   "outputs": [
    {
     "name": "stdout",
     "output_type": "stream",
     "text": [
      "Матрица евклидовых расстояний:\n",
      "[[10.77032961, 5.91607978, 2.82842712], [5.91607978, 2.82842712, 5.91607978], [2.82842712, 5.91607978, 10.77032961]]\n",
      "Время:\n",
      "0.0010058879852294922\n"
     ]
    }
   ],
   "source": [
    "X = [[1, 2, 3], [4, 5, 6], [7, 8, 9]]\n",
    "Y = [[9, 8, 7], [6, 5, 4], [3, 2, 1]]\n",
    "\n",
    "start_time = time.time()\n",
    "\n",
    "distances = [\n",
    "    [round(math.sqrt(sum((x - y) ** 2 for x, y in zip(X[i], Y[j]))), 8) for j in range(len(Y))]\n",
    "    for i in range(len(X))\n",
    "]\n",
    "\n",
    "end_time = time.time()\n",
    "py_time = end_time-start_time\n",
    "\n",
    "print(\"Матрица евклидовых расстояний:\")\n",
    "print(distances)\n",
    "print(\"Время:\")\n",
    "print(py_time)"
   ]
  },
  {
   "cell_type": "code",
   "execution_count": 27,
   "id": "4a97c330",
   "metadata": {},
   "outputs": [
    {
     "name": "stdout",
     "output_type": "stream",
     "text": [
      "Матрица евклидовых расстояний:\n",
      "[[10.77032961  5.91607978  2.82842712]\n",
      " [ 5.91607978  2.82842712  5.91607978]\n",
      " [ 2.82842712  5.91607978 10.77032961]]\n",
      "Время:\n",
      "0.0009970664978027344\n"
     ]
    }
   ],
   "source": [
    "X = np.array([[1, 2, 3], [4, 5, 6], [7, 8, 9]])\n",
    "Y = np.array([[9, 8, 7], [6, 5, 4], [3, 2, 1]])\n",
    "\n",
    "start_time = time.time()\n",
    "\n",
    "distances_np = np.sqrt(np.sum((X[:, np.newaxis, :] - Y) ** 2, axis=2))\n",
    "\n",
    "end_time = time.time()\n",
    "numpy_time = end_time-start_time\n",
    "\n",
    "print(\"Матрица евклидовых расстояний:\")\n",
    "print(distances_np)\n",
    "print(\"Время:\")\n",
    "print(numpy_time)"
   ]
  },
  {
   "cell_type": "code",
   "execution_count": 28,
   "id": "bab7cfda",
   "metadata": {},
   "outputs": [
    {
     "name": "stdout",
     "output_type": "stream",
     "text": [
      "Сравнение скорости работы:\n",
      "Код с использованием numpy быстрее.\n"
     ]
    }
   ],
   "source": [
    "print(\"Сравнение скорости работы:\")\n",
    "if py_time < numpy_time:\n",
    "    print(\"Код без использования numpy быстрее.\") \n",
    "elif numpy_time < py_time:\n",
    "    print(\"Код с использованием numpy быстрее.\")\n",
    "else:\n",
    "    print(\"Время выполнения одинаково.\")"
   ]
  },
  {
   "cell_type": "markdown",
   "id": "973e8064",
   "metadata": {},
   "source": [
    "_______\n",
    "________"
   ]
  },
  {
   "cell_type": "markdown",
   "id": "1104acb7",
   "metadata": {},
   "source": [
    "* #### __Задача 6__: CrunchieMunchies __*__\n",
    "\n",
    "Вы работаете в отделе маркетинга пищевой компании MyCrunch, которая разрабатывает новый вид вкусных, полезных злаков под названием **CrunchieMunchies**.\n",
    "\n",
    "Вы хотите продемонстрировать потребителям, насколько полезны ваши хлопья по сравнению с другими ведущими брендами, поэтому вы собрали данные о питании нескольких разных конкурентов.\n",
    "\n",
    "Ваша задача - использовать вычисления Numpy для анализа этих данных и доказать, что ваши **СrunchieMunchies** - самый здоровый выбор для потребителей.\n"
   ]
  },
  {
   "cell_type": "code",
   "execution_count": 19,
   "id": "10a77f8d",
   "metadata": {},
   "outputs": [],
   "source": [
    "import numpy as np"
   ]
  },
  {
   "cell_type": "markdown",
   "id": "ab87cb03",
   "metadata": {},
   "source": [
    "1. Просмотрите файл cereal.csv. Этот файл содержит количества калорий для различных марок хлопьев. Загрузите данные из файла и сохраните их как calorie_stats."
   ]
  },
  {
   "cell_type": "code",
   "execution_count": 20,
   "id": "9681ebf2",
   "metadata": {},
   "outputs": [
    {
     "data": {
      "text/plain": [
       "array([ 70., 120.,  70.,  50., 110., 110., 110., 130.,  90.,  90., 120.,\n",
       "       110., 120., 110., 110., 110., 100., 110., 110., 110., 100., 110.,\n",
       "       100., 100., 110., 110., 100., 120., 120., 110., 100., 110., 100.,\n",
       "       110., 120., 120., 110., 110., 110., 140., 110., 100., 110., 100.,\n",
       "       150., 150., 160., 100., 120., 140.,  90., 130., 120., 100.,  50.,\n",
       "        50., 100., 100., 120., 100.,  90., 110., 110.,  80.,  90.,  90.,\n",
       "       110., 110.,  90., 110., 140., 100., 110., 110., 100., 100., 110.])"
      ]
     },
     "execution_count": 20,
     "metadata": {},
     "output_type": "execute_result"
    }
   ],
   "source": [
    "calorie_stats = np.loadtxt(\"../data/cereal.csv\", delimiter=\",\")\n",
    "calorie_stats"
   ]
  },
  {
   "cell_type": "markdown",
   "id": "139cfbd8",
   "metadata": {},
   "source": [
    "2. В одной порции CrunchieMunchies содержится 60 калорий. Насколько выше среднее количество калорий у ваших конкурентов?\n",
    "\n",
    "Сохраните ответ в переменной average_calories и распечатайте переменную в терминале"
   ]
  },
  {
   "cell_type": "code",
   "execution_count": 21,
   "id": "7036d240",
   "metadata": {},
   "outputs": [
    {
     "name": "stdout",
     "output_type": "stream",
     "text": [
      "Разница:\n",
      "47.0\n"
     ]
    }
   ],
   "source": [
    "calories = 60\n",
    "average_calories = np.mean(calorie_stats)\n",
    "average_difference = np.round(abs(calories - average_calories))\n",
    "\n",
    "print(\"Разница:\")\n",
    "print(average_difference)"
   ]
  },
  {
   "cell_type": "markdown",
   "id": "b2ddb4cd",
   "metadata": {},
   "source": [
    "3. Корректно ли среднее количество калорий отражает распределение набора данных? Давайте отсортируем данные и посмотрим.\n",
    "\n",
    "Отсортируйте данные и сохраните результат в переменной calorie_stats_sorted. Распечатайте отсортированную информацию"
   ]
  },
  {
   "cell_type": "code",
   "execution_count": 22,
   "id": "46eeb4ed",
   "metadata": {},
   "outputs": [
    {
     "data": {
      "text/plain": [
       "array([ 50.,  50.,  50.,  70.,  70.,  80.,  90.,  90.,  90.,  90.,  90.,\n",
       "        90.,  90., 100., 100., 100., 100., 100., 100., 100., 100., 100.,\n",
       "       100., 100., 100., 100., 100., 100., 100., 100., 110., 110., 110.,\n",
       "       110., 110., 110., 110., 110., 110., 110., 110., 110., 110., 110.,\n",
       "       110., 110., 110., 110., 110., 110., 110., 110., 110., 110., 110.,\n",
       "       110., 110., 110., 110., 120., 120., 120., 120., 120., 120., 120.,\n",
       "       120., 120., 120., 130., 130., 140., 140., 140., 150., 150., 160.])"
      ]
     },
     "execution_count": 22,
     "metadata": {},
     "output_type": "execute_result"
    }
   ],
   "source": [
    "calorie_stats_sorted = np.sort(calorie_stats)\n",
    "calorie_stats_sorted"
   ]
  },
  {
   "cell_type": "markdown",
   "id": "4dc74116",
   "metadata": {},
   "source": [
    "4. Похоже, что большинство значений выше среднего. Давайте посмотрим, является ли медиана наиболее корректным показателем набора данных.\n",
    "\n",
    "Вычислите медиану набора данных и сохраните свой ответ в median_calories. Выведите медиану, чтобы вы могли видеть, как она сравнивается со средним значением."
   ]
  },
  {
   "cell_type": "code",
   "execution_count": 23,
   "id": "b56627c3",
   "metadata": {},
   "outputs": [
    {
     "data": {
      "text/plain": [
       "110.0"
      ]
     },
     "execution_count": 23,
     "metadata": {},
     "output_type": "execute_result"
    }
   ],
   "source": [
    "median_calories = np.median(calorie_stats)\n",
    "median_calories"
   ]
  },
  {
   "cell_type": "markdown",
   "id": "a63ab72f",
   "metadata": {},
   "source": [
    "5. В то время как медиана показывает, что по крайней мере половина наших значений составляет более 100 калорий, было бы более впечатляюще показать, что значительная часть конкурентов имеет более высокое количество калорий, чем CrunchieMunchies.\n",
    "\n",
    "Рассчитайте различные процентили и распечатайте их, пока не найдете наименьший процентиль, превышающий 60 калорий. Сохраните это значение в переменной nth_percentile."
   ]
  },
  {
   "cell_type": "code",
   "execution_count": 24,
   "id": "fe80ce03",
   "metadata": {},
   "outputs": [
    {
     "data": {
      "text/plain": [
       "70.0"
      ]
     },
     "execution_count": 24,
     "metadata": {},
     "output_type": "execute_result"
    }
   ],
   "source": [
    "nth_percentile = np.percentile(calorie_stats, 4)\n",
    "nth_percentile"
   ]
  },
  {
   "cell_type": "markdown",
   "id": "a2a3c5aa",
   "metadata": {},
   "source": [
    "6. Хотя процентиль показывает нам, что у большинства конкурентов количество калорий намного выше, это неудобная концепция для использования в маркетинговых материалах.\n",
    "\n",
    "Вместо этого давайте подсчитаем процент хлопьев, в которых содержится более 60 калорий на порцию. Сохраните свой ответ в переменной more_calories и распечатайте его"
   ]
  },
  {
   "cell_type": "code",
   "execution_count": 25,
   "id": "ade0f6ea",
   "metadata": {},
   "outputs": [
    {
     "data": {
      "text/plain": [
       "96.0"
      ]
     },
     "execution_count": 25,
     "metadata": {},
     "output_type": "execute_result"
    }
   ],
   "source": [
    "more_calories = np.round(100*len(calorie_stats[calorie_stats > 60])/len(calorie_stats))\n",
    "more_calories"
   ]
  },
  {
   "cell_type": "markdown",
   "id": "1735d65b",
   "metadata": {},
   "source": [
    "7. Это действительно высокий процент. Это будет очень полезно, когда мы будем продвигать CrunchieMunchies. Но один вопрос заключается в том, насколько велики различия в наборе данных? Можем ли мы сделать обобщение, что в большинстве злаков содержится около 100 калорий или разброс еще больше?\n",
    "\n",
    "Рассчитайте величину отклонения, найдя стандартное отклонение, Сохраните свой ответ в calorie_std и распечатайте на терминале. Как мы можем включить эту ценность в наш анализ?"
   ]
  },
  {
   "cell_type": "code",
   "execution_count": 26,
   "id": "85c8df1f",
   "metadata": {},
   "outputs": [
    {
     "data": {
      "text/plain": [
       "19.35718533390827"
      ]
     },
     "execution_count": 26,
     "metadata": {},
     "output_type": "execute_result"
    }
   ],
   "source": [
    "calorie_std = np.std(calorie_stats)\n",
    "calorie_std"
   ]
  },
  {
   "cell_type": "markdown",
   "id": "037455c5",
   "metadata": {},
   "source": [
    "8. Напишите короткий абзац, в котором кратко изложите свои выводы и то, как, по вашему мнению, эти данные могут быть использованы в интересах Mycrunch при маркетинге CrunchieMunchies."
   ]
  },
  {
   "cell_type": "markdown",
   "id": "96baed03",
   "metadata": {},
   "source": [
    "### Вывод:\n",
    "На основе проведенного анализа данных о калорийности злаков, мы пришли к нескольким ключевым выводам, подчеркивающим превосходство CrunchieMunchies в контексте здорового питания. \n",
    "\n",
    "Во-первых, среднее количество калорий в порции CrunchieMunchies (60 калорий) заметно ниже среднего у конкурентов (107 калорий). Это свидетельствует о том, что наши хлопья предлагают более легкий и здоровый вариант для потребителей.\n",
    "\n",
    "Во-вторых, анализ процентилей показывает, что всего 4% конкурентов имеют калорийность менее 60, что делает CrunchieMunchies значительно более привлекательным выбором для тех, кто следит за своим здоровьем.\n",
    "\n",
    "Эти выводы предоставляют нам сильные аргументы для маркетинговой кампании CrunchieMunchies. Мы можем акцентировать внимание на низкой калорийности в сравнении с конкурентами, выделяя не только среднюю, но и медианную калорийность, что подчеркнет уникальность продукта. Кроме того, важно подчеркнуть, что значительная часть рынка предлагает продукты с высоким содержанием калорий, в то время как CrunchieMunchies являются исключением, предоставляя здоровую и легкую альтернативу."
   ]
  }
 ],
 "metadata": {
  "kernelspec": {
   "display_name": "Python 3 (ipykernel)",
   "language": "python",
   "name": "python3"
  },
  "language_info": {
   "codemirror_mode": {
    "name": "ipython",
    "version": 3
   },
   "file_extension": ".py",
   "mimetype": "text/x-python",
   "name": "python",
   "nbconvert_exporter": "python",
   "pygments_lexer": "ipython3",
   "version": "3.11.3"
  }
 },
 "nbformat": 4,
 "nbformat_minor": 5
}
