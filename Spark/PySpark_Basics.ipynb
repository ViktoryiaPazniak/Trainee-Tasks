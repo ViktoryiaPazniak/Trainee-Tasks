{
  "cells": [
    {
      "cell_type": "markdown",
      "id": "trained-moses",
      "metadata": {
        "id": "trained-moses"
      },
      "source": [
        "import libraries(I provide all libs that I need when make this tasks, if you need some external import them here)"
      ]
    },
    {
      "cell_type": "code",
      "execution_count": 1,
      "id": "induced-african",
      "metadata": {
        "id": "induced-african"
      },
      "outputs": [],
      "source": [
        "import findspark\n",
        "from pyspark.sql import SparkSession\n",
        "from pyspark.sql.types import StructType, StructField, IntegerType, StringType\n",
        "from pyspark.sql.functions import col\n",
        "from pyspark.sql.functions import max, avg, min\n",
        "from pyspark.sql.window import Window\n",
        "from pyspark.sql.functions import row_number\n",
        "from pyspark.sql.functions import when"
      ]
    },
    {
      "cell_type": "markdown",
      "id": "permanent-photographer",
      "metadata": {
        "id": "permanent-photographer"
      },
      "source": [
        "create local SparkSession"
      ]
    },
    {
      "cell_type": "code",
      "execution_count": 2,
      "id": "d5ebcb75",
      "metadata": {
        "id": "d5ebcb75"
      },
      "outputs": [],
      "source": [
        "findspark.init()"
      ]
    },
    {
      "cell_type": "code",
      "execution_count": 3,
      "id": "stock-partnership",
      "metadata": {
        "id": "stock-partnership"
      },
      "outputs": [],
      "source": [
        "spark = SparkSession.builder \\\n",
        "    .master('local[*]') \\\n",
        "    .appName('PySpark_Basics') \\\n",
        "    .getOrCreate()"
      ]
    },
    {
      "cell_type": "markdown",
      "id": "juvenile-blame",
      "metadata": {
        "id": "juvenile-blame"
      },
      "source": [
        "read csv with inferschema"
      ]
    },
    {
      "cell_type": "code",
      "execution_count": 4,
      "id": "computational-liverpool",
      "metadata": {
        "colab": {
          "base_uri": "https://localhost:8080/"
        },
        "id": "computational-liverpool",
        "outputId": "82760b14-ee4b-4fb9-d3b1-bae1d7e2af11"
      },
      "outputs": [
        {
          "output_type": "stream",
          "name": "stdout",
          "text": [
            "CPU times: user 46.2 ms, sys: 7.39 ms, total: 53.6 ms\n",
            "Wall time: 8.36 s\n"
          ]
        }
      ],
      "source": [
        "%%time\n",
        "\n",
        "df = spark.read \\\n",
        "    .option('header', True) \\\n",
        "    .option('inferSchema', True) \\\n",
        "    .csv('../data/ds_salaries.csv')"
      ]
    },
    {
      "cell_type": "markdown",
      "id": "stopped-dominant",
      "metadata": {
        "id": "stopped-dominant"
      },
      "source": [
        "read csv one more time with the same code and you will see that it almostly don't take time, because info already in SparkSession and it will not read nothing\n",
        "from this file"
      ]
    },
    {
      "cell_type": "code",
      "execution_count": 5,
      "id": "aging-neighborhood",
      "metadata": {
        "colab": {
          "base_uri": "https://localhost:8080/"
        },
        "id": "aging-neighborhood",
        "outputId": "b99186cd-905e-4ed6-de82-2e682cf5c1bf"
      },
      "outputs": [
        {
          "output_type": "stream",
          "name": "stdout",
          "text": [
            "CPU times: user 5.29 ms, sys: 0 ns, total: 5.29 ms\n",
            "Wall time: 583 ms\n"
          ]
        }
      ],
      "source": [
        "%%time\n",
        "\n",
        "df = spark.read \\\n",
        "    .option('header', True) \\\n",
        "    .option('inferSchema', True) \\\n",
        "    .csv('../data/ds_salaries.csv')"
      ]
    },
    {
      "cell_type": "markdown",
      "id": "mature-tomorrow",
      "metadata": {
        "id": "mature-tomorrow"
      },
      "source": [
        "write schema of scv on screen"
      ]
    },
    {
      "cell_type": "code",
      "execution_count": 6,
      "id": "least-communications",
      "metadata": {
        "colab": {
          "base_uri": "https://localhost:8080/"
        },
        "id": "least-communications",
        "outputId": "c94f7da6-8091-4222-ec6c-fe89799eabfa"
      },
      "outputs": [
        {
          "output_type": "stream",
          "name": "stdout",
          "text": [
            "root\n",
            " |-- _c0: integer (nullable = true)\n",
            " |-- work_year: integer (nullable = true)\n",
            " |-- experience_level: string (nullable = true)\n",
            " |-- employment_type: string (nullable = true)\n",
            " |-- job_title: string (nullable = true)\n",
            " |-- salary: integer (nullable = true)\n",
            " |-- salary_currency: string (nullable = true)\n",
            " |-- salary_in_usd: integer (nullable = true)\n",
            " |-- employee_residence: string (nullable = true)\n",
            " |-- remote_ratio: integer (nullable = true)\n",
            " |-- company_location: string (nullable = true)\n",
            " |-- company_size: string (nullable = true)\n",
            "\n"
          ]
        }
      ],
      "source": [
        "df.printSchema()"
      ]
    },
    {
      "cell_type": "markdown",
      "id": "connected-brother",
      "metadata": {
        "id": "connected-brother"
      },
      "source": [
        "create schema of this scv"
      ]
    },
    {
      "cell_type": "code",
      "execution_count": 4,
      "id": "progressive-dictionary",
      "metadata": {
        "id": "progressive-dictionary"
      },
      "outputs": [],
      "source": [
        "schema = StructType([\n",
        "    StructField('id', IntegerType(), nullable=True),\n",
        "    StructField('work_year', IntegerType(), nullable=True),\n",
        "    StructField('experience_level', StringType(), nullable=True),\n",
        "    StructField('employment_type', StringType(), nullable=True),\n",
        "    StructField('job_title', StringType(), nullable=True),\n",
        "    StructField('salary', IntegerType(), nullable=True),\n",
        "    StructField('salary_currency', StringType(), nullable=True),\n",
        "    StructField('salary_in_usd', IntegerType(), nullable=True),\n",
        "    StructField('employee_residence', StringType(), nullable=True),\n",
        "    StructField('remote_ratio', IntegerType(), nullable=True),\n",
        "    StructField('company_location', StringType(), nullable=True),\n",
        "    StructField('company_size', StringType(), nullable=True)\n",
        "])"
      ]
    },
    {
      "cell_type": "markdown",
      "id": "auburn-sauce",
      "metadata": {
        "id": "auburn-sauce"
      },
      "source": [
        "restart kernel without cleaning output and after restarting you need to initialize SparkSession, after initialize start execute only cells from cell with schema=\n",
        "=StructType....\n",
        "To restart kernel click Kernel, Restart."
      ]
    },
    {
      "cell_type": "markdown",
      "id": "artistic-hospital",
      "metadata": {
        "id": "artistic-hospital"
      },
      "source": [
        "read ds_salaries with predefined schema and compare results from this cell and cell with inferSchema"
      ]
    },
    {
      "cell_type": "code",
      "execution_count": 5,
      "id": "literary-plaintiff",
      "metadata": {
        "colab": {
          "base_uri": "https://localhost:8080/"
        },
        "id": "literary-plaintiff",
        "outputId": "cae79f63-4604-4d86-a97d-4560e88f31ac"
      },
      "outputs": [
        {
          "output_type": "stream",
          "name": "stdout",
          "text": [
            "CPU times: user 25.7 ms, sys: 4.69 ms, total: 30.4 ms\n",
            "Wall time: 3.95 s\n"
          ]
        }
      ],
      "source": [
        "%%time\n",
        "\n",
        "df = spark.read \\\n",
        "    .option('header', True) \\\n",
        "    .schema(schema) \\\n",
        "    .csv('../data/ds_salaries.csv')"
      ]
    },
    {
      "cell_type": "markdown",
      "id": "senior-joint",
      "metadata": {
        "id": "senior-joint"
      },
      "source": [
        "this happens because read operation is lazy(transformation), but if you use inferschema it start to be action that will create Spark Job, because Spark need to loop throw all file to check datatypes for all columns and this can harm to your code(if we compare to parquet, it will also go to check data types, but parquet provide meta information, so Spark will not go throw all file, he will just read meta information, but csv don't provide such meta information). Also header make Spark to create one more Spark Job to check first line\n",
        "to define name of columns and remember to skeep it when reading. Actual reading start when you will use first action. More about Spark Jobs you will see in next topic"
      ]
    },
    {
      "cell_type": "markdown",
      "id": "underlying-assurance",
      "metadata": {
        "id": "underlying-assurance"
      },
      "source": [
        "write schema of scv on screen one more time and compare with previous"
      ]
    },
    {
      "cell_type": "code",
      "execution_count": 6,
      "id": "solid-infection",
      "metadata": {
        "colab": {
          "base_uri": "https://localhost:8080/"
        },
        "id": "solid-infection",
        "outputId": "cb589073-95a5-4958-8224-1ad483b1cbed"
      },
      "outputs": [
        {
          "output_type": "stream",
          "name": "stdout",
          "text": [
            "root\n",
            " |-- id: integer (nullable = true)\n",
            " |-- work_year: integer (nullable = true)\n",
            " |-- experience_level: string (nullable = true)\n",
            " |-- employment_type: string (nullable = true)\n",
            " |-- job_title: string (nullable = true)\n",
            " |-- salary: integer (nullable = true)\n",
            " |-- salary_currency: string (nullable = true)\n",
            " |-- salary_in_usd: integer (nullable = true)\n",
            " |-- employee_residence: string (nullable = true)\n",
            " |-- remote_ratio: integer (nullable = true)\n",
            " |-- company_location: string (nullable = true)\n",
            " |-- company_size: string (nullable = true)\n",
            "\n"
          ]
        }
      ],
      "source": [
        "df.printSchema()"
      ]
    },
    {
      "cell_type": "markdown",
      "id": "close-water",
      "metadata": {
        "id": "close-water"
      },
      "source": [
        "now continue to work with one of the dataframes that you create"
      ]
    },
    {
      "cell_type": "markdown",
      "id": "piano-belgium",
      "metadata": {
        "id": "piano-belgium"
      },
      "source": [
        "print data in dataframe using df.show"
      ]
    },
    {
      "cell_type": "code",
      "execution_count": 7,
      "id": "legendary-alarm",
      "metadata": {
        "colab": {
          "base_uri": "https://localhost:8080/"
        },
        "id": "legendary-alarm",
        "outputId": "a820d904-6223-43a1-d100-867f0faa1acb"
      },
      "outputs": [
        {
          "output_type": "stream",
          "name": "stdout",
          "text": [
            "+---+---------+----------------+---------------+--------------------+--------+---------------+-------------+------------------+------------+----------------+------------+\n",
            "| id|work_year|experience_level|employment_type|           job_title|  salary|salary_currency|salary_in_usd|employee_residence|remote_ratio|company_location|company_size|\n",
            "+---+---------+----------------+---------------+--------------------+--------+---------------+-------------+------------------+------------+----------------+------------+\n",
            "|  0|     2020|              MI|             FT|      Data Scientist|   70000|            EUR|        79833|                DE|           0|              DE|           L|\n",
            "|  1|     2020|              SE|             FT|Machine Learning ...|  260000|            USD|       260000|                JP|           0|              JP|           S|\n",
            "|  2|     2020|              SE|             FT|   Big Data Engineer|   85000|            GBP|       109024|                GB|          50|              GB|           M|\n",
            "|  3|     2020|              MI|             FT|Product Data Analyst|   20000|            USD|        20000|                HN|           0|              HN|           S|\n",
            "|  4|     2020|              SE|             FT|Machine Learning ...|  150000|            USD|       150000|                US|          50|              US|           L|\n",
            "|  5|     2020|              EN|             FT|        Data Analyst|   72000|            USD|        72000|                US|         100|              US|           L|\n",
            "|  6|     2020|              SE|             FT| Lead Data Scientist|  190000|            USD|       190000|                US|         100|              US|           S|\n",
            "|  7|     2020|              MI|             FT|      Data Scientist|11000000|            HUF|        35735|                HU|          50|              HU|           L|\n",
            "|  8|     2020|              MI|             FT|Business Data Ana...|  135000|            USD|       135000|                US|         100|              US|           L|\n",
            "|  9|     2020|              SE|             FT|  Lead Data Engineer|  125000|            USD|       125000|                NZ|          50|              NZ|           S|\n",
            "| 10|     2020|              EN|             FT|      Data Scientist|   45000|            EUR|        51321|                FR|           0|              FR|           S|\n",
            "| 11|     2020|              MI|             FT|      Data Scientist| 3000000|            INR|        40481|                IN|           0|              IN|           L|\n",
            "| 12|     2020|              EN|             FT|      Data Scientist|   35000|            EUR|        39916|                FR|           0|              FR|           M|\n",
            "| 13|     2020|              MI|             FT|   Lead Data Analyst|   87000|            USD|        87000|                US|         100|              US|           L|\n",
            "| 14|     2020|              MI|             FT|        Data Analyst|   85000|            USD|        85000|                US|         100|              US|           L|\n",
            "| 15|     2020|              MI|             FT|        Data Analyst|    8000|            USD|         8000|                PK|          50|              PK|           L|\n",
            "| 16|     2020|              EN|             FT|       Data Engineer| 4450000|            JPY|        41689|                JP|         100|              JP|           S|\n",
            "| 17|     2020|              SE|             FT|   Big Data Engineer|  100000|            EUR|       114047|                PL|         100|              GB|           S|\n",
            "| 18|     2020|              EN|             FT|Data Science Cons...|  423000|            INR|         5707|                IN|          50|              IN|           M|\n",
            "| 19|     2020|              MI|             FT|  Lead Data Engineer|   56000|            USD|        56000|                PT|         100|              US|           M|\n",
            "+---+---------+----------------+---------------+--------------------+--------+---------------+-------------+------------------+------------+----------------+------------+\n",
            "only showing top 20 rows\n",
            "\n"
          ]
        }
      ],
      "source": [
        "df.show()"
      ]
    },
    {
      "cell_type": "markdown",
      "id": "tamil-medium",
      "metadata": {
        "id": "tamil-medium"
      },
      "source": [
        "print data in dataframe using display(df.toPandas())"
      ]
    },
    {
      "cell_type": "code",
      "execution_count": 8,
      "id": "connected-dryer",
      "metadata": {
        "colab": {
          "base_uri": "https://localhost:8080/",
          "height": 669
        },
        "id": "connected-dryer",
        "outputId": "608b6fc1-f30a-4486-9de8-3e1f7a850881"
      },
      "outputs": [
        {
          "output_type": "display_data",
          "data": {
            "text/plain": [
              "      id  work_year experience_level employment_type  \\\n",
              "0      0       2020               MI              FT   \n",
              "1      1       2020               SE              FT   \n",
              "2      2       2020               SE              FT   \n",
              "3      3       2020               MI              FT   \n",
              "4      4       2020               SE              FT   \n",
              "..   ...        ...              ...             ...   \n",
              "602  602       2022               SE              FT   \n",
              "603  603       2022               SE              FT   \n",
              "604  604       2022               SE              FT   \n",
              "605  605       2022               SE              FT   \n",
              "606  606       2022               MI              FT   \n",
              "\n",
              "                      job_title  salary salary_currency  salary_in_usd  \\\n",
              "0                Data Scientist   70000             EUR          79833   \n",
              "1    Machine Learning Scientist  260000             USD         260000   \n",
              "2             Big Data Engineer   85000             GBP         109024   \n",
              "3          Product Data Analyst   20000             USD          20000   \n",
              "4     Machine Learning Engineer  150000             USD         150000   \n",
              "..                          ...     ...             ...            ...   \n",
              "602               Data Engineer  154000             USD         154000   \n",
              "603               Data Engineer  126000             USD         126000   \n",
              "604                Data Analyst  129000             USD         129000   \n",
              "605                Data Analyst  150000             USD         150000   \n",
              "606                AI Scientist  200000             USD         200000   \n",
              "\n",
              "    employee_residence  remote_ratio company_location company_size  \n",
              "0                   DE             0               DE            L  \n",
              "1                   JP             0               JP            S  \n",
              "2                   GB            50               GB            M  \n",
              "3                   HN             0               HN            S  \n",
              "4                   US            50               US            L  \n",
              "..                 ...           ...              ...          ...  \n",
              "602                 US           100               US            M  \n",
              "603                 US           100               US            M  \n",
              "604                 US             0               US            M  \n",
              "605                 US           100               US            M  \n",
              "606                 IN           100               US            L  \n",
              "\n",
              "[607 rows x 12 columns]"
            ],
            "text/html": [
              "\n",
              "  <div id=\"df-4d8ec950-03be-4303-8105-f4b89177efe9\" class=\"colab-df-container\">\n",
              "    <div>\n",
              "<style scoped>\n",
              "    .dataframe tbody tr th:only-of-type {\n",
              "        vertical-align: middle;\n",
              "    }\n",
              "\n",
              "    .dataframe tbody tr th {\n",
              "        vertical-align: top;\n",
              "    }\n",
              "\n",
              "    .dataframe thead th {\n",
              "        text-align: right;\n",
              "    }\n",
              "</style>\n",
              "<table border=\"1\" class=\"dataframe\">\n",
              "  <thead>\n",
              "    <tr style=\"text-align: right;\">\n",
              "      <th></th>\n",
              "      <th>id</th>\n",
              "      <th>work_year</th>\n",
              "      <th>experience_level</th>\n",
              "      <th>employment_type</th>\n",
              "      <th>job_title</th>\n",
              "      <th>salary</th>\n",
              "      <th>salary_currency</th>\n",
              "      <th>salary_in_usd</th>\n",
              "      <th>employee_residence</th>\n",
              "      <th>remote_ratio</th>\n",
              "      <th>company_location</th>\n",
              "      <th>company_size</th>\n",
              "    </tr>\n",
              "  </thead>\n",
              "  <tbody>\n",
              "    <tr>\n",
              "      <th>0</th>\n",
              "      <td>0</td>\n",
              "      <td>2020</td>\n",
              "      <td>MI</td>\n",
              "      <td>FT</td>\n",
              "      <td>Data Scientist</td>\n",
              "      <td>70000</td>\n",
              "      <td>EUR</td>\n",
              "      <td>79833</td>\n",
              "      <td>DE</td>\n",
              "      <td>0</td>\n",
              "      <td>DE</td>\n",
              "      <td>L</td>\n",
              "    </tr>\n",
              "    <tr>\n",
              "      <th>1</th>\n",
              "      <td>1</td>\n",
              "      <td>2020</td>\n",
              "      <td>SE</td>\n",
              "      <td>FT</td>\n",
              "      <td>Machine Learning Scientist</td>\n",
              "      <td>260000</td>\n",
              "      <td>USD</td>\n",
              "      <td>260000</td>\n",
              "      <td>JP</td>\n",
              "      <td>0</td>\n",
              "      <td>JP</td>\n",
              "      <td>S</td>\n",
              "    </tr>\n",
              "    <tr>\n",
              "      <th>2</th>\n",
              "      <td>2</td>\n",
              "      <td>2020</td>\n",
              "      <td>SE</td>\n",
              "      <td>FT</td>\n",
              "      <td>Big Data Engineer</td>\n",
              "      <td>85000</td>\n",
              "      <td>GBP</td>\n",
              "      <td>109024</td>\n",
              "      <td>GB</td>\n",
              "      <td>50</td>\n",
              "      <td>GB</td>\n",
              "      <td>M</td>\n",
              "    </tr>\n",
              "    <tr>\n",
              "      <th>3</th>\n",
              "      <td>3</td>\n",
              "      <td>2020</td>\n",
              "      <td>MI</td>\n",
              "      <td>FT</td>\n",
              "      <td>Product Data Analyst</td>\n",
              "      <td>20000</td>\n",
              "      <td>USD</td>\n",
              "      <td>20000</td>\n",
              "      <td>HN</td>\n",
              "      <td>0</td>\n",
              "      <td>HN</td>\n",
              "      <td>S</td>\n",
              "    </tr>\n",
              "    <tr>\n",
              "      <th>4</th>\n",
              "      <td>4</td>\n",
              "      <td>2020</td>\n",
              "      <td>SE</td>\n",
              "      <td>FT</td>\n",
              "      <td>Machine Learning Engineer</td>\n",
              "      <td>150000</td>\n",
              "      <td>USD</td>\n",
              "      <td>150000</td>\n",
              "      <td>US</td>\n",
              "      <td>50</td>\n",
              "      <td>US</td>\n",
              "      <td>L</td>\n",
              "    </tr>\n",
              "    <tr>\n",
              "      <th>...</th>\n",
              "      <td>...</td>\n",
              "      <td>...</td>\n",
              "      <td>...</td>\n",
              "      <td>...</td>\n",
              "      <td>...</td>\n",
              "      <td>...</td>\n",
              "      <td>...</td>\n",
              "      <td>...</td>\n",
              "      <td>...</td>\n",
              "      <td>...</td>\n",
              "      <td>...</td>\n",
              "      <td>...</td>\n",
              "    </tr>\n",
              "    <tr>\n",
              "      <th>602</th>\n",
              "      <td>602</td>\n",
              "      <td>2022</td>\n",
              "      <td>SE</td>\n",
              "      <td>FT</td>\n",
              "      <td>Data Engineer</td>\n",
              "      <td>154000</td>\n",
              "      <td>USD</td>\n",
              "      <td>154000</td>\n",
              "      <td>US</td>\n",
              "      <td>100</td>\n",
              "      <td>US</td>\n",
              "      <td>M</td>\n",
              "    </tr>\n",
              "    <tr>\n",
              "      <th>603</th>\n",
              "      <td>603</td>\n",
              "      <td>2022</td>\n",
              "      <td>SE</td>\n",
              "      <td>FT</td>\n",
              "      <td>Data Engineer</td>\n",
              "      <td>126000</td>\n",
              "      <td>USD</td>\n",
              "      <td>126000</td>\n",
              "      <td>US</td>\n",
              "      <td>100</td>\n",
              "      <td>US</td>\n",
              "      <td>M</td>\n",
              "    </tr>\n",
              "    <tr>\n",
              "      <th>604</th>\n",
              "      <td>604</td>\n",
              "      <td>2022</td>\n",
              "      <td>SE</td>\n",
              "      <td>FT</td>\n",
              "      <td>Data Analyst</td>\n",
              "      <td>129000</td>\n",
              "      <td>USD</td>\n",
              "      <td>129000</td>\n",
              "      <td>US</td>\n",
              "      <td>0</td>\n",
              "      <td>US</td>\n",
              "      <td>M</td>\n",
              "    </tr>\n",
              "    <tr>\n",
              "      <th>605</th>\n",
              "      <td>605</td>\n",
              "      <td>2022</td>\n",
              "      <td>SE</td>\n",
              "      <td>FT</td>\n",
              "      <td>Data Analyst</td>\n",
              "      <td>150000</td>\n",
              "      <td>USD</td>\n",
              "      <td>150000</td>\n",
              "      <td>US</td>\n",
              "      <td>100</td>\n",
              "      <td>US</td>\n",
              "      <td>M</td>\n",
              "    </tr>\n",
              "    <tr>\n",
              "      <th>606</th>\n",
              "      <td>606</td>\n",
              "      <td>2022</td>\n",
              "      <td>MI</td>\n",
              "      <td>FT</td>\n",
              "      <td>AI Scientist</td>\n",
              "      <td>200000</td>\n",
              "      <td>USD</td>\n",
              "      <td>200000</td>\n",
              "      <td>IN</td>\n",
              "      <td>100</td>\n",
              "      <td>US</td>\n",
              "      <td>L</td>\n",
              "    </tr>\n",
              "  </tbody>\n",
              "</table>\n",
              "<p>607 rows × 12 columns</p>\n",
              "</div>\n",
              "    <div class=\"colab-df-buttons\">\n",
              "\n",
              "  <div class=\"colab-df-container\">\n",
              "    <button class=\"colab-df-convert\" onclick=\"convertToInteractive('df-4d8ec950-03be-4303-8105-f4b89177efe9')\"\n",
              "            title=\"Convert this dataframe to an interactive table.\"\n",
              "            style=\"display:none;\">\n",
              "\n",
              "  <svg xmlns=\"http://www.w3.org/2000/svg\" height=\"24px\" viewBox=\"0 -960 960 960\">\n",
              "    <path d=\"M120-120v-720h720v720H120Zm60-500h600v-160H180v160Zm220 220h160v-160H400v160Zm0 220h160v-160H400v160ZM180-400h160v-160H180v160Zm440 0h160v-160H620v160ZM180-180h160v-160H180v160Zm440 0h160v-160H620v160Z\"/>\n",
              "  </svg>\n",
              "    </button>\n",
              "\n",
              "  <style>\n",
              "    .colab-df-container {\n",
              "      display:flex;\n",
              "      gap: 12px;\n",
              "    }\n",
              "\n",
              "    .colab-df-convert {\n",
              "      background-color: #E8F0FE;\n",
              "      border: none;\n",
              "      border-radius: 50%;\n",
              "      cursor: pointer;\n",
              "      display: none;\n",
              "      fill: #1967D2;\n",
              "      height: 32px;\n",
              "      padding: 0 0 0 0;\n",
              "      width: 32px;\n",
              "    }\n",
              "\n",
              "    .colab-df-convert:hover {\n",
              "      background-color: #E2EBFA;\n",
              "      box-shadow: 0px 1px 2px rgba(60, 64, 67, 0.3), 0px 1px 3px 1px rgba(60, 64, 67, 0.15);\n",
              "      fill: #174EA6;\n",
              "    }\n",
              "\n",
              "    .colab-df-buttons div {\n",
              "      margin-bottom: 4px;\n",
              "    }\n",
              "\n",
              "    [theme=dark] .colab-df-convert {\n",
              "      background-color: #3B4455;\n",
              "      fill: #D2E3FC;\n",
              "    }\n",
              "\n",
              "    [theme=dark] .colab-df-convert:hover {\n",
              "      background-color: #434B5C;\n",
              "      box-shadow: 0px 1px 3px 1px rgba(0, 0, 0, 0.15);\n",
              "      filter: drop-shadow(0px 1px 2px rgba(0, 0, 0, 0.3));\n",
              "      fill: #FFFFFF;\n",
              "    }\n",
              "  </style>\n",
              "\n",
              "    <script>\n",
              "      const buttonEl =\n",
              "        document.querySelector('#df-4d8ec950-03be-4303-8105-f4b89177efe9 button.colab-df-convert');\n",
              "      buttonEl.style.display =\n",
              "        google.colab.kernel.accessAllowed ? 'block' : 'none';\n",
              "\n",
              "      async function convertToInteractive(key) {\n",
              "        const element = document.querySelector('#df-4d8ec950-03be-4303-8105-f4b89177efe9');\n",
              "        const dataTable =\n",
              "          await google.colab.kernel.invokeFunction('convertToInteractive',\n",
              "                                                    [key], {});\n",
              "        if (!dataTable) return;\n",
              "\n",
              "        const docLinkHtml = 'Like what you see? Visit the ' +\n",
              "          '<a target=\"_blank\" href=https://colab.research.google.com/notebooks/data_table.ipynb>data table notebook</a>'\n",
              "          + ' to learn more about interactive tables.';\n",
              "        element.innerHTML = '';\n",
              "        dataTable['output_type'] = 'display_data';\n",
              "        await google.colab.output.renderOutput(dataTable, element);\n",
              "        const docLink = document.createElement('div');\n",
              "        docLink.innerHTML = docLinkHtml;\n",
              "        element.appendChild(docLink);\n",
              "      }\n",
              "    </script>\n",
              "  </div>\n",
              "\n",
              "\n",
              "<div id=\"df-e3384761-1b1e-40ef-b9d8-3956ae98b90c\">\n",
              "  <button class=\"colab-df-quickchart\" onclick=\"quickchart('df-e3384761-1b1e-40ef-b9d8-3956ae98b90c')\"\n",
              "            title=\"Suggest charts\"\n",
              "            style=\"display:none;\">\n",
              "\n",
              "<svg xmlns=\"http://www.w3.org/2000/svg\" height=\"24px\"viewBox=\"0 0 24 24\"\n",
              "     width=\"24px\">\n",
              "    <g>\n",
              "        <path d=\"M19 3H5c-1.1 0-2 .9-2 2v14c0 1.1.9 2 2 2h14c1.1 0 2-.9 2-2V5c0-1.1-.9-2-2-2zM9 17H7v-7h2v7zm4 0h-2V7h2v10zm4 0h-2v-4h2v4z\"/>\n",
              "    </g>\n",
              "</svg>\n",
              "  </button>\n",
              "\n",
              "<style>\n",
              "  .colab-df-quickchart {\n",
              "      --bg-color: #E8F0FE;\n",
              "      --fill-color: #1967D2;\n",
              "      --hover-bg-color: #E2EBFA;\n",
              "      --hover-fill-color: #174EA6;\n",
              "      --disabled-fill-color: #AAA;\n",
              "      --disabled-bg-color: #DDD;\n",
              "  }\n",
              "\n",
              "  [theme=dark] .colab-df-quickchart {\n",
              "      --bg-color: #3B4455;\n",
              "      --fill-color: #D2E3FC;\n",
              "      --hover-bg-color: #434B5C;\n",
              "      --hover-fill-color: #FFFFFF;\n",
              "      --disabled-bg-color: #3B4455;\n",
              "      --disabled-fill-color: #666;\n",
              "  }\n",
              "\n",
              "  .colab-df-quickchart {\n",
              "    background-color: var(--bg-color);\n",
              "    border: none;\n",
              "    border-radius: 50%;\n",
              "    cursor: pointer;\n",
              "    display: none;\n",
              "    fill: var(--fill-color);\n",
              "    height: 32px;\n",
              "    padding: 0;\n",
              "    width: 32px;\n",
              "  }\n",
              "\n",
              "  .colab-df-quickchart:hover {\n",
              "    background-color: var(--hover-bg-color);\n",
              "    box-shadow: 0 1px 2px rgba(60, 64, 67, 0.3), 0 1px 3px 1px rgba(60, 64, 67, 0.15);\n",
              "    fill: var(--button-hover-fill-color);\n",
              "  }\n",
              "\n",
              "  .colab-df-quickchart-complete:disabled,\n",
              "  .colab-df-quickchart-complete:disabled:hover {\n",
              "    background-color: var(--disabled-bg-color);\n",
              "    fill: var(--disabled-fill-color);\n",
              "    box-shadow: none;\n",
              "  }\n",
              "\n",
              "  .colab-df-spinner {\n",
              "    border: 2px solid var(--fill-color);\n",
              "    border-color: transparent;\n",
              "    border-bottom-color: var(--fill-color);\n",
              "    animation:\n",
              "      spin 1s steps(1) infinite;\n",
              "  }\n",
              "\n",
              "  @keyframes spin {\n",
              "    0% {\n",
              "      border-color: transparent;\n",
              "      border-bottom-color: var(--fill-color);\n",
              "      border-left-color: var(--fill-color);\n",
              "    }\n",
              "    20% {\n",
              "      border-color: transparent;\n",
              "      border-left-color: var(--fill-color);\n",
              "      border-top-color: var(--fill-color);\n",
              "    }\n",
              "    30% {\n",
              "      border-color: transparent;\n",
              "      border-left-color: var(--fill-color);\n",
              "      border-top-color: var(--fill-color);\n",
              "      border-right-color: var(--fill-color);\n",
              "    }\n",
              "    40% {\n",
              "      border-color: transparent;\n",
              "      border-right-color: var(--fill-color);\n",
              "      border-top-color: var(--fill-color);\n",
              "    }\n",
              "    60% {\n",
              "      border-color: transparent;\n",
              "      border-right-color: var(--fill-color);\n",
              "    }\n",
              "    80% {\n",
              "      border-color: transparent;\n",
              "      border-right-color: var(--fill-color);\n",
              "      border-bottom-color: var(--fill-color);\n",
              "    }\n",
              "    90% {\n",
              "      border-color: transparent;\n",
              "      border-bottom-color: var(--fill-color);\n",
              "    }\n",
              "  }\n",
              "</style>\n",
              "\n",
              "  <script>\n",
              "    async function quickchart(key) {\n",
              "      const quickchartButtonEl =\n",
              "        document.querySelector('#' + key + ' button');\n",
              "      quickchartButtonEl.disabled = true;  // To prevent multiple clicks.\n",
              "      quickchartButtonEl.classList.add('colab-df-spinner');\n",
              "      try {\n",
              "        const charts = await google.colab.kernel.invokeFunction(\n",
              "            'suggestCharts', [key], {});\n",
              "      } catch (error) {\n",
              "        console.error('Error during call to suggestCharts:', error);\n",
              "      }\n",
              "      quickchartButtonEl.classList.remove('colab-df-spinner');\n",
              "      quickchartButtonEl.classList.add('colab-df-quickchart-complete');\n",
              "    }\n",
              "    (() => {\n",
              "      let quickchartButtonEl =\n",
              "        document.querySelector('#df-e3384761-1b1e-40ef-b9d8-3956ae98b90c button');\n",
              "      quickchartButtonEl.style.display =\n",
              "        google.colab.kernel.accessAllowed ? 'block' : 'none';\n",
              "    })();\n",
              "  </script>\n",
              "</div>\n",
              "    </div>\n",
              "  </div>\n"
            ]
          },
          "metadata": {}
        }
      ],
      "source": [
        "display(df.toPandas())"
      ]
    },
    {
      "cell_type": "markdown",
      "id": "opponent-gazette",
      "metadata": {
        "id": "opponent-gazette"
      },
      "source": [
        "create df_job_title that consists from all job_titles without duplicates"
      ]
    },
    {
      "cell_type": "code",
      "execution_count": 9,
      "id": "friendly-cartridge",
      "metadata": {
        "id": "friendly-cartridge"
      },
      "outputs": [],
      "source": [
        "df_job_title = df.select('job_title').distinct()"
      ]
    },
    {
      "cell_type": "markdown",
      "id": "offshore-architecture",
      "metadata": {
        "id": "offshore-architecture"
      },
      "source": [
        "print all rows from df_job_titles without truncating jobs"
      ]
    },
    {
      "cell_type": "code",
      "execution_count": 10,
      "id": "asian-edition",
      "metadata": {
        "colab": {
          "base_uri": "https://localhost:8080/"
        },
        "id": "asian-edition",
        "outputId": "9ecf4ed6-6d54-489d-f81e-7315e1d2d31f"
      },
      "outputs": [
        {
          "output_type": "stream",
          "name": "stdout",
          "text": [
            "+----------------------------------------+\n",
            "|job_title                               |\n",
            "+----------------------------------------+\n",
            "|3D Computer Vision Researcher           |\n",
            "|Lead Data Engineer                      |\n",
            "|Head of Machine Learning                |\n",
            "|Data Specialist                         |\n",
            "|Data Analytics Lead                     |\n",
            "|Machine Learning Scientist              |\n",
            "|Lead Data Analyst                       |\n",
            "|Data Engineering Manager                |\n",
            "|Staff Data Scientist                    |\n",
            "|ETL Developer                           |\n",
            "|Director of Data Engineering            |\n",
            "|Product Data Analyst                    |\n",
            "|Principal Data Scientist                |\n",
            "|AI Scientist                            |\n",
            "|Director of Data Science                |\n",
            "|Machine Learning Engineer               |\n",
            "|Lead Data Scientist                     |\n",
            "|Machine Learning Infrastructure Engineer|\n",
            "|Data Science Engineer                   |\n",
            "|Machine Learning Manager                |\n",
            "+----------------------------------------+\n",
            "only showing top 20 rows\n",
            "\n"
          ]
        }
      ],
      "source": [
        "df_job_title.show(truncate=False)"
      ]
    },
    {
      "cell_type": "markdown",
      "id": "interim-pharmacy",
      "metadata": {
        "id": "interim-pharmacy"
      },
      "source": [
        "create  df_analytic that will consists from max, avg, min USD salaries for all job_titles using groupBy. name of fields is avg_salary, min_salary, max_salary"
      ]
    },
    {
      "cell_type": "code",
      "execution_count": 11,
      "id": "naval-roller",
      "metadata": {
        "id": "naval-roller"
      },
      "outputs": [],
      "source": [
        "df_analytic = df \\\n",
        "    .groupby('job_title') \\\n",
        "    .agg(min('salary_in_usd').alias('min_salary'),\n",
        "        max('salary_in_usd').alias('max_salary'),\n",
        "        avg('salary_in_usd').alias('avg_salary'))"
      ]
    },
    {
      "cell_type": "markdown",
      "id": "french-pledge",
      "metadata": {
        "id": "french-pledge"
      },
      "source": [
        "print all rows from df_analytic without trancating jobs"
      ]
    },
    {
      "cell_type": "code",
      "execution_count": 12,
      "id": "bacterial-depression",
      "metadata": {
        "colab": {
          "base_uri": "https://localhost:8080/"
        },
        "id": "bacterial-depression",
        "outputId": "4fc6ade7-f266-42d9-c514-97f2e181f557"
      },
      "outputs": [
        {
          "output_type": "stream",
          "name": "stdout",
          "text": [
            "+----------------------------------------+----------+----------+------------------+\n",
            "|job_title                               |min_salary|max_salary|avg_salary        |\n",
            "+----------------------------------------+----------+----------+------------------+\n",
            "|3D Computer Vision Researcher           |5409      |5409      |5409.0            |\n",
            "|Lead Data Engineer                      |56000     |276000    |139724.5          |\n",
            "|Head of Machine Learning                |79039     |79039     |79039.0           |\n",
            "|Data Specialist                         |165000    |165000    |165000.0          |\n",
            "|Data Analytics Lead                     |405000    |405000    |405000.0          |\n",
            "|Machine Learning Scientist              |12000     |260000    |158412.5          |\n",
            "|Lead Data Analyst                       |19609     |170000    |92203.0           |\n",
            "|Data Engineering Manager                |59303     |174000    |123227.2          |\n",
            "|Staff Data Scientist                    |105000    |105000    |105000.0          |\n",
            "|ETL Developer                           |54957     |54957     |54957.0           |\n",
            "|Director of Data Engineering            |113476    |200000    |156738.0          |\n",
            "|Product Data Analyst                    |6072      |20000     |13036.0           |\n",
            "|Principal Data Scientist                |148261    |416000    |215242.42857142858|\n",
            "|AI Scientist                            |12000     |200000    |66135.57142857143 |\n",
            "|Director of Data Science                |130026    |325000    |195074.0          |\n",
            "|Machine Learning Engineer               |20000     |250000    |104880.14634146342|\n",
            "|Lead Data Scientist                     |40570     |190000    |115190.0          |\n",
            "|Machine Learning Infrastructure Engineer|50180     |195000    |101145.0          |\n",
            "|Data Science Engineer                   |40189     |127221    |75803.33333333333 |\n",
            "|Machine Learning Manager                |117104    |117104    |117104.0          |\n",
            "+----------------------------------------+----------+----------+------------------+\n",
            "only showing top 20 rows\n",
            "\n"
          ]
        }
      ],
      "source": [
        "df_analytic.show(truncate=False)"
      ]
    },
    {
      "cell_type": "markdown",
      "id": "hazardous-color",
      "metadata": {
        "id": "hazardous-color"
      },
      "source": [
        "now you need to add in df_analytic column row_id, that will show order of all job_titles depending on avg salary. they should be descending"
      ]
    },
    {
      "cell_type": "code",
      "execution_count": 13,
      "id": "nearby-treasurer",
      "metadata": {
        "id": "nearby-treasurer"
      },
      "outputs": [],
      "source": [
        "avg_salary_col = Window.orderBy(col('avg_salary').desc())\n",
        "df_analytic = df_analytic.withColumn('row_id', row_number().over(avg_salary_col))"
      ]
    },
    {
      "cell_type": "markdown",
      "id": "documented-catalog",
      "metadata": {
        "id": "documented-catalog"
      },
      "source": [
        "print all data from df_analytic"
      ]
    },
    {
      "cell_type": "code",
      "execution_count": 14,
      "id": "confirmed-monitoring",
      "metadata": {
        "colab": {
          "base_uri": "https://localhost:8080/"
        },
        "id": "confirmed-monitoring",
        "outputId": "257bbbb4-d662-447d-f9a4-6d590250092d"
      },
      "outputs": [
        {
          "output_type": "stream",
          "name": "stdout",
          "text": [
            "+--------------------+----------+----------+------------------+------+\n",
            "|           job_title|min_salary|max_salary|        avg_salary|row_id|\n",
            "+--------------------+----------+----------+------------------+------+\n",
            "| Data Analytics Lead|    405000|    405000|          405000.0|     1|\n",
            "|Principal Data En...|    185000|    600000| 328333.3333333333|     2|\n",
            "|Financial Data An...|    100000|    450000|          275000.0|     3|\n",
            "|Principal Data Sc...|    148261|    416000|215242.42857142858|     4|\n",
            "|Director of Data ...|    130026|    325000|          195074.0|     5|\n",
            "|      Data Architect|     90700|    266400| 177873.9090909091|     6|\n",
            "|Applied Data Scie...|     54238|    380000|          175655.0|     7|\n",
            "|  Analytics Engineer|    135000|    205300|          175000.0|     8|\n",
            "|     Data Specialist|    165000|    165000|          165000.0|     9|\n",
            "|        Head of Data|     32974|    235000|          160162.6|    10|\n",
            "|Machine Learning ...|     12000|    260000|          158412.5|    11|\n",
            "|Data Science Manager|     54094|    241000|          158328.5|    12|\n",
            "|Director of Data ...|    113476|    200000|          156738.0|    13|\n",
            "|Head of Data Science|     85000|    224000|         146718.75|    14|\n",
            "|Applied Machine L...|     31875|    423000|         142068.75|    15|\n",
            "|  Lead Data Engineer|     56000|    276000|          139724.5|    16|\n",
            "|Data Analytics Ma...|    105400|    150260|127134.28571428571|    17|\n",
            "| Cloud Data Engineer|     89294|    160000|          124647.0|    18|\n",
            "|Data Engineering ...|     59303|    174000|          123227.2|    19|\n",
            "|Principal Data An...|     75000|    170000|          122500.0|    20|\n",
            "+--------------------+----------+----------+------------------+------+\n",
            "only showing top 20 rows\n",
            "\n"
          ]
        }
      ],
      "source": [
        "df_analytic.show()"
      ]
    },
    {
      "cell_type": "markdown",
      "id": "satellite-quarter",
      "metadata": {
        "id": "satellite-quarter"
      },
      "source": [
        "it isn't beautifull, so we need to put now row_id on first place in df_analytic"
      ]
    },
    {
      "cell_type": "code",
      "execution_count": 15,
      "id": "ranging-tribune",
      "metadata": {
        "id": "ranging-tribune"
      },
      "outputs": [],
      "source": [
        "df_analytic = df_analytic.select('row_id', 'job_title', 'max_salary', 'avg_salary', 'min_salary')"
      ]
    },
    {
      "cell_type": "markdown",
      "id": "reliable-amsterdam",
      "metadata": {
        "id": "reliable-amsterdam"
      },
      "source": [
        "print df_analytic now"
      ]
    },
    {
      "cell_type": "code",
      "execution_count": 16,
      "id": "classical-biology",
      "metadata": {
        "colab": {
          "base_uri": "https://localhost:8080/"
        },
        "id": "classical-biology",
        "outputId": "0f9aa8d1-82dc-4349-f7bc-fa2404544cc3"
      },
      "outputs": [
        {
          "output_type": "stream",
          "name": "stdout",
          "text": [
            "+------+--------------------+----------+------------------+----------+\n",
            "|row_id|           job_title|max_salary|        avg_salary|min_salary|\n",
            "+------+--------------------+----------+------------------+----------+\n",
            "|     1| Data Analytics Lead|    405000|          405000.0|    405000|\n",
            "|     2|Principal Data En...|    600000| 328333.3333333333|    185000|\n",
            "|     3|Financial Data An...|    450000|          275000.0|    100000|\n",
            "|     4|Principal Data Sc...|    416000|215242.42857142858|    148261|\n",
            "|     5|Director of Data ...|    325000|          195074.0|    130026|\n",
            "|     6|      Data Architect|    266400| 177873.9090909091|     90700|\n",
            "|     7|Applied Data Scie...|    380000|          175655.0|     54238|\n",
            "|     8|  Analytics Engineer|    205300|          175000.0|    135000|\n",
            "|     9|     Data Specialist|    165000|          165000.0|    165000|\n",
            "|    10|        Head of Data|    235000|          160162.6|     32974|\n",
            "|    11|Machine Learning ...|    260000|          158412.5|     12000|\n",
            "|    12|Data Science Manager|    241000|          158328.5|     54094|\n",
            "|    13|Director of Data ...|    200000|          156738.0|    113476|\n",
            "|    14|Head of Data Science|    224000|         146718.75|     85000|\n",
            "|    15|Applied Machine L...|    423000|         142068.75|     31875|\n",
            "|    16|  Lead Data Engineer|    276000|          139724.5|     56000|\n",
            "|    17|Data Analytics Ma...|    150260|127134.28571428571|    105400|\n",
            "|    18| Cloud Data Engineer|    160000|          124647.0|     89294|\n",
            "|    19|Data Engineering ...|    174000|          123227.2|     59303|\n",
            "|    20|Principal Data An...|    170000|          122500.0|     75000|\n",
            "+------+--------------------+----------+------------------+----------+\n",
            "only showing top 20 rows\n",
            "\n"
          ]
        }
      ],
      "source": [
        "df_analytic.show()"
      ]
    },
    {
      "cell_type": "markdown",
      "id": "hybrid-queensland",
      "metadata": {
        "id": "hybrid-queensland"
      },
      "source": [
        "here you need to create df_exp_lvl with the biggest usd_salary(biggest_salary) for each experience_level(you need to save all fields like in entire dataframe)"
      ]
    },
    {
      "cell_type": "code",
      "execution_count": 17,
      "id": "dental-wrist",
      "metadata": {
        "id": "dental-wrist"
      },
      "outputs": [],
      "source": [
        "experience_level = Window.partitionBy('experience_level')\n",
        "df_exp_lvl = df.withColumn('biggest_salary', max('salary_in_usd').over(experience_level))"
      ]
    },
    {
      "cell_type": "markdown",
      "id": "innovative-hierarchy",
      "metadata": {
        "id": "innovative-hierarchy"
      },
      "source": [
        "print here df_exp_lvl"
      ]
    },
    {
      "cell_type": "code",
      "execution_count": 18,
      "id": "standing-toilet",
      "metadata": {
        "colab": {
          "base_uri": "https://localhost:8080/"
        },
        "id": "standing-toilet",
        "outputId": "d595bb3e-7a0e-4468-8cc8-e10393ed1629"
      },
      "outputs": [
        {
          "output_type": "stream",
          "name": "stdout",
          "text": [
            "+---+---------+----------------+---------------+--------------------+------+---------------+-------------+------------------+------------+----------------+------------+--------------+\n",
            "| id|work_year|experience_level|employment_type|           job_title|salary|salary_currency|salary_in_usd|employee_residence|remote_ratio|company_location|company_size|biggest_salary|\n",
            "+---+---------+----------------+---------------+--------------------+------+---------------+-------------+------------------+------------+----------------+------------+--------------+\n",
            "| 25|     2020|              EX|             FT|Director of Data ...|325000|            USD|       325000|                US|         100|              US|           L|        600000|\n",
            "| 41|     2020|              EX|             FT|Data Engineering ...| 70000|            EUR|        79833|                ES|          50|              ES|           L|        600000|\n",
            "| 73|     2021|              EX|             FT|     BI Data Analyst|150000|            USD|       150000|                IN|         100|              US|           L|        600000|\n",
            "| 74|     2021|              EX|             FT|        Head of Data|235000|            USD|       235000|                US|         100|              US|           L|        600000|\n",
            "| 84|     2021|              EX|             FT|Director of Data ...|130000|            EUR|       153667|                IT|         100|              PL|           L|        600000|\n",
            "|160|     2021|              EX|             FT|        Head of Data|230000|            USD|       230000|                RU|          50|              RU|           L|        600000|\n",
            "|161|     2021|              EX|             FT|Head of Data Science| 85000|            USD|        85000|                RU|           0|              RU|           M|        600000|\n",
            "|164|     2021|              EX|             FT|Director of Data ...|110000|            EUR|       130026|                DE|          50|              DE|           M|        600000|\n",
            "|167|     2021|              EX|             FT|Director of Data ...|250000|            USD|       250000|                US|           0|              US|           L|        600000|\n",
            "|187|     2021|              EX|             FT|Data Science Cons...| 59000|            EUR|        69741|                FR|         100|              ES|           S|        600000|\n",
            "|225|     2021|              EX|             CT|Principal Data Sc...|416000|            USD|       416000|                US|         100|              US|           S|        600000|\n",
            "|252|     2021|              EX|             FT|Principal Data En...|600000|            USD|       600000|                US|         100|              US|           L|        600000|\n",
            "|259|     2021|              EX|             FT|Director of Data ...|120000|            EUR|       141846|                DE|           0|              DE|           L|        600000|\n",
            "|309|     2022|              EX|             FT|       Data Engineer|242000|            USD|       242000|                US|         100|              US|           M|        600000|\n",
            "|310|     2022|              EX|             FT|       Data Engineer|200000|            USD|       200000|                US|         100|              US|           M|        600000|\n",
            "|326|     2022|              EX|             FT|        Data Analyst|130000|            USD|       130000|                US|         100|              US|           M|        600000|\n",
            "|327|     2022|              EX|             FT|        Data Analyst|110000|            USD|       110000|                US|         100|              US|           M|        600000|\n",
            "|342|     2022|              EX|             FT|Head of Data Science|224000|            USD|       224000|                US|         100|              US|           M|        600000|\n",
            "|343|     2022|              EX|             FT|Head of Data Science|167875|            USD|       167875|                US|         100|              US|           M|        600000|\n",
            "|344|     2022|              EX|             FT|  Analytics Engineer|175000|            USD|       175000|                US|         100|              US|           M|        600000|\n",
            "+---+---------+----------------+---------------+--------------------+------+---------------+-------------+------------------+------------+----------------+------------+--------------+\n",
            "only showing top 20 rows\n",
            "\n"
          ]
        }
      ],
      "source": [
        "df_exp_lvl.show()"
      ]
    },
    {
      "cell_type": "markdown",
      "id": "hawaiian-mortgage",
      "metadata": {
        "id": "hawaiian-mortgage"
      },
      "source": [
        "create df_best that consists from rows where salary of guy same as biggest salary for other people in his exp_lvl and choose only columns: id, experience_level, biggest_salary, employee_residence"
      ]
    },
    {
      "cell_type": "code",
      "execution_count": 19,
      "id": "toxic-prompt",
      "metadata": {
        "id": "toxic-prompt"
      },
      "outputs": [],
      "source": [
        "df_best = df_exp_lvl \\\n",
        "    .select('id', 'experience_level', 'biggest_salary', 'employee_residence') \\\n",
        "    .where(col('salary_in_usd') == col('biggest_salary'))"
      ]
    },
    {
      "cell_type": "markdown",
      "id": "complex-librarian",
      "metadata": {
        "id": "complex-librarian"
      },
      "source": [
        "print df_best"
      ]
    },
    {
      "cell_type": "code",
      "execution_count": 20,
      "id": "smart-texas",
      "metadata": {
        "colab": {
          "base_uri": "https://localhost:8080/"
        },
        "id": "smart-texas",
        "outputId": "8ab06fc0-d4f1-4ed5-a92b-9ff95871a5e2"
      },
      "outputs": [
        {
          "output_type": "stream",
          "name": "stdout",
          "text": [
            "+---+----------------+--------------+------------------+\n",
            "| id|experience_level|biggest_salary|employee_residence|\n",
            "+---+----------------+--------------+------------------+\n",
            "|252|              EX|        600000|                US|\n",
            "| 33|              MI|        450000|                US|\n",
            "| 97|              MI|        450000|                US|\n",
            "| 37|              EN|        250000|                US|\n",
            "| 63|              SE|        412000|                US|\n",
            "+---+----------------+--------------+------------------+\n",
            "\n"
          ]
        }
      ],
      "source": [
        "df_best.show()"
      ]
    },
    {
      "cell_type": "markdown",
      "id": "integral-brass",
      "metadata": {
        "id": "integral-brass"
      },
      "source": [
        "drop duplicates if exist by experience_level"
      ]
    },
    {
      "cell_type": "code",
      "execution_count": 21,
      "id": "immune-marine",
      "metadata": {
        "id": "immune-marine"
      },
      "outputs": [],
      "source": [
        "df_best = df_best.dropDuplicates(['experience_level'])"
      ]
    },
    {
      "cell_type": "markdown",
      "id": "connected-credit",
      "metadata": {
        "id": "connected-credit"
      },
      "source": [
        "print df_best"
      ]
    },
    {
      "cell_type": "code",
      "execution_count": 22,
      "id": "specified-wellington",
      "metadata": {
        "colab": {
          "base_uri": "https://localhost:8080/"
        },
        "id": "specified-wellington",
        "outputId": "9f835d31-037a-4a23-cffe-184a339965ad"
      },
      "outputs": [
        {
          "output_type": "stream",
          "name": "stdout",
          "text": [
            "+---+----------------+--------------+------------------+\n",
            "| id|experience_level|biggest_salary|employee_residence|\n",
            "+---+----------------+--------------+------------------+\n",
            "|252|              EX|        600000|                US|\n",
            "| 33|              MI|        450000|                US|\n",
            "| 37|              EN|        250000|                US|\n",
            "| 63|              SE|        412000|                US|\n",
            "+---+----------------+--------------+------------------+\n",
            "\n"
          ]
        }
      ],
      "source": [
        "df_best.show()"
      ]
    },
    {
      "cell_type": "markdown",
      "id": "facial-plant",
      "metadata": {
        "id": "facial-plant"
      },
      "source": [
        "create df_new_best from df_best without id, and make the next: when exp_level = MI we want middle, when SE we want senior, else Null"
      ]
    },
    {
      "cell_type": "code",
      "execution_count": 23,
      "id": "infinite-retail",
      "metadata": {
        "id": "infinite-retail"
      },
      "outputs": [],
      "source": [
        "df_new_best = df_best \\\n",
        "    .select('biggest_salary', 'employee_residence',\n",
        "            when(col('experience_level') == 'MI', 'middle')\n",
        "            .when(col('experience_level') == 'SE', 'senior')\n",
        "            .otherwise(None).alias('experience_level'))"
      ]
    },
    {
      "cell_type": "markdown",
      "id": "changing-fairy",
      "metadata": {
        "id": "changing-fairy"
      },
      "source": [
        "print df_new_best"
      ]
    },
    {
      "cell_type": "code",
      "execution_count": 24,
      "id": "endless-framework",
      "metadata": {
        "colab": {
          "base_uri": "https://localhost:8080/"
        },
        "id": "endless-framework",
        "outputId": "89d4a151-a021-4811-9f0e-43e1a12f6ad3"
      },
      "outputs": [
        {
          "output_type": "stream",
          "name": "stdout",
          "text": [
            "+--------------+------------------+----------------+\n",
            "|biggest_salary|employee_residence|experience_level|\n",
            "+--------------+------------------+----------------+\n",
            "|        600000|                US|            null|\n",
            "|        450000|                US|          middle|\n",
            "|        250000|                US|            null|\n",
            "|        412000|                US|          senior|\n",
            "+--------------+------------------+----------------+\n",
            "\n"
          ]
        }
      ],
      "source": [
        "df_new_best.show()"
      ]
    },
    {
      "cell_type": "markdown",
      "id": "mineral-status",
      "metadata": {
        "id": "mineral-status"
      },
      "source": [
        "write df_new_best like 1.csv and load then it to df_final"
      ]
    },
    {
      "cell_type": "code",
      "execution_count": 25,
      "id": "baking-progress",
      "metadata": {
        "id": "baking-progress"
      },
      "outputs": [],
      "source": [
        "df_new_best.write \\\n",
        "    .option('header', True) \\\n",
        "    .mode('overwrite') \\\n",
        "    .csv('../data/1.csv')"
      ]
    },
    {
      "cell_type": "code",
      "source": [
        "df_final = spark.read \\\n",
        "    .option('header', True) \\\n",
        "    .csv('../data/1.csv')"
      ],
      "metadata": {
        "id": "fWJOhXHoYKof"
      },
      "id": "fWJOhXHoYKof",
      "execution_count": 26,
      "outputs": []
    },
    {
      "cell_type": "markdown",
      "id": "vocal-shooting",
      "metadata": {
        "id": "vocal-shooting"
      },
      "source": [
        "print df_final"
      ]
    },
    {
      "cell_type": "code",
      "execution_count": 27,
      "id": "expired-viewer",
      "metadata": {
        "colab": {
          "base_uri": "https://localhost:8080/"
        },
        "id": "expired-viewer",
        "outputId": "fd58aeef-9d42-415e-b630-ce2642212685"
      },
      "outputs": [
        {
          "output_type": "stream",
          "name": "stdout",
          "text": [
            "+--------------+------------------+----------------+\n",
            "|biggest_salary|employee_residence|experience_level|\n",
            "+--------------+------------------+----------------+\n",
            "|        412000|                US|          senior|\n",
            "|        450000|                US|          middle|\n",
            "|        600000|                US|            null|\n",
            "|        250000|                US|            null|\n",
            "+--------------+------------------+----------------+\n",
            "\n"
          ]
        }
      ],
      "source": [
        "df_final.show()"
      ]
    },
    {
      "cell_type": "markdown",
      "id": "nutritional-progress",
      "metadata": {
        "id": "nutritional-progress"
      },
      "source": [
        "filter df_final to delete experience_level where it Null, then join this table by biggest_salary(salary_in_usd) and employee_residence with entire df"
      ]
    },
    {
      "cell_type": "code",
      "execution_count": 28,
      "id": "small-polymer",
      "metadata": {
        "id": "small-polymer"
      },
      "outputs": [],
      "source": [
        "df_final = df_final \\\n",
        "    .dropna(subset='experience_level') \\\n",
        "    .join(df, (df_final.biggest_salary == df.salary_in_usd) & (df_final.employee_residence == df.employee_residence))"
      ]
    },
    {
      "cell_type": "markdown",
      "id": "variable-twins",
      "metadata": {
        "id": "variable-twins"
      },
      "source": [
        "print df_final"
      ]
    },
    {
      "cell_type": "code",
      "execution_count": 29,
      "id": "generic-block",
      "metadata": {
        "colab": {
          "base_uri": "https://localhost:8080/"
        },
        "id": "generic-block",
        "outputId": "fa8f4a6b-af72-4803-e669-6ef3d50713ad"
      },
      "outputs": [
        {
          "output_type": "stream",
          "name": "stdout",
          "text": [
            "+--------------+------------------+----------------+---+---------+----------------+---------------+--------------------+------+---------------+-------------+------------------+------------+----------------+------------+\n",
            "|biggest_salary|employee_residence|experience_level| id|work_year|experience_level|employment_type|           job_title|salary|salary_currency|salary_in_usd|employee_residence|remote_ratio|company_location|company_size|\n",
            "+--------------+------------------+----------------+---+---------+----------------+---------------+--------------------+------+---------------+-------------+------------------+------------+----------------+------------+\n",
            "|        450000|                US|          middle| 33|     2020|              MI|             FT|  Research Scientist|450000|            USD|       450000|                US|           0|              US|           M|\n",
            "|        412000|                US|          senior| 63|     2020|              SE|             FT|      Data Scientist|412000|            USD|       412000|                US|         100|              US|           L|\n",
            "|        450000|                US|          middle| 97|     2021|              MI|             FT|Financial Data An...|450000|            USD|       450000|                US|         100|              US|           L|\n",
            "+--------------+------------------+----------------+---+---------+----------------+---------------+--------------------+------+---------------+-------------+------------------+------------+----------------+------------+\n",
            "\n"
          ]
        }
      ],
      "source": [
        "df_final.show()"
      ]
    },
    {
      "cell_type": "markdown",
      "id": "variable-moore",
      "metadata": {
        "id": "variable-moore"
      },
      "source": [
        "last task is to save in variable and then print this variable of the biggest salary_in_usd from df_final"
      ]
    },
    {
      "cell_type": "code",
      "execution_count": 30,
      "id": "individual-institution",
      "metadata": {
        "colab": {
          "base_uri": "https://localhost:8080/",
          "height": 36
        },
        "id": "individual-institution",
        "outputId": "1a8b702e-33d5-4a0a-bc60-a9cd580415c4"
      },
      "outputs": [
        {
          "output_type": "execute_result",
          "data": {
            "text/plain": [
              "'450000'"
            ],
            "application/vnd.google.colaboratory.intrinsic+json": {
              "type": "string"
            }
          },
          "metadata": {},
          "execution_count": 30
        }
      ],
      "source": [
        "biggest_salary_in_usd = df_final.select(max('biggest_salary')).collect()[0][0]\n",
        "biggest_salary_in_usd"
      ]
    },
    {
      "cell_type": "markdown",
      "id": "stopped-procedure",
      "metadata": {
        "id": "stopped-procedure"
      },
      "source": [
        "It is the end of PySpark basics. In other lessons you will learn optimizations technics and how to make distributed system"
      ]
    }
  ],
  "metadata": {
    "kernelspec": {
      "display_name": "Python 3 (ipykernel)",
      "language": "python",
      "name": "python3"
    },
    "language_info": {
      "codemirror_mode": {
        "name": "ipython",
        "version": 3
      },
      "file_extension": ".py",
      "mimetype": "text/x-python",
      "name": "python",
      "nbconvert_exporter": "python",
      "pygments_lexer": "ipython3",
      "version": "3.11.5"
    },
    "colab": {
      "provenance": []
    }
  },
  "nbformat": 4,
  "nbformat_minor": 5
}